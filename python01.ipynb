{
 "cells": [
  {
   "cell_type": "raw",
   "id": "70cad97a-44db-496a-a3b3-7848321a3725",
   "metadata": {},
   "source": [
    "message=\"mitm\"\n",
    "print(message)"
   ]
  },
  {
   "cell_type": "code",
   "execution_count": 4,
   "id": "cd369ce8-877d-4074-8551-d14508579f2d",
   "metadata": {},
   "outputs": [
    {
     "name": "stdout",
     "output_type": "stream",
     "text": [
      "<class 'str'>\n"
     ]
    }
   ],
   "source": [
    "x=\"anusha\"\n",
    "print(type(x))"
   ]
  },
  {
   "cell_type": "code",
   "execution_count": 5,
   "id": "91e9b0f7-0e31-417a-96af-4cef3d6f2003",
   "metadata": {},
   "outputs": [],
   "source": [
    "x,y,z=10,20,30"
   ]
  },
  {
   "cell_type": "code",
   "execution_count": 6,
   "id": "95431fe6-715e-4018-8f92-4e6d0d85906b",
   "metadata": {},
   "outputs": [
    {
     "data": {
      "text/plain": [
       "10"
      ]
     },
     "execution_count": 6,
     "metadata": {},
     "output_type": "execute_result"
    }
   ],
   "source": [
    "x\n"
   ]
  },
  {
   "cell_type": "code",
   "execution_count": 9,
   "id": "675d5158-f069-4d07-a997-22359ce8d4c2",
   "metadata": {},
   "outputs": [
    {
     "name": "stdout",
     "output_type": "stream",
     "text": [
      "('apple', 'cherry', 'banana')\n",
      "('apple', 'cherry', 'banana')\n",
      "('apple', 'cherry', 'banana')\n"
     ]
    }
   ],
   "source": [
    "x=y=z=\"apple\",\"cherry\",\"banana\"\n",
    "print(x)\n",
    "print(y)\n",
    "print(z)"
   ]
  },
  {
   "cell_type": "code",
   "execution_count": 11,
   "id": "e7c2527e-2360-42cd-a7c7-7a11b42433da",
   "metadata": {},
   "outputs": [],
   "source": [
    "lst=[1,2,3,4]"
   ]
  },
  {
   "cell_type": "code",
   "execution_count": 16,
   "id": "44c6e762-8eac-4f1f-9333-6ba42bc40ffb",
   "metadata": {},
   "outputs": [
    {
     "data": {
      "text/plain": [
       "[1, 2, 3, 4, 6, 6, 5]"
      ]
     },
     "execution_count": 16,
     "metadata": {},
     "output_type": "execute_result"
    }
   ],
   "source": [
    "lst.append(5)\n",
    "lst"
   ]
  },
  {
   "cell_type": "code",
   "execution_count": 17,
   "id": "15e78e88-364f-405a-8735-b41dceeb0cc4",
   "metadata": {},
   "outputs": [
    {
     "data": {
      "text/plain": [
       "[1, 2, 3, 4, 6, 6, 5, 5]"
      ]
     },
     "execution_count": 17,
     "metadata": {},
     "output_type": "execute_result"
    }
   ],
   "source": [
    "lst.append(5)\n",
    "lst"
   ]
  },
  {
   "cell_type": "code",
   "execution_count": 25,
   "id": "d73a3968-7627-4fd9-9750-742a8cd5fa0f",
   "metadata": {},
   "outputs": [
    {
     "data": {
      "text/plain": [
       "2"
      ]
     },
     "execution_count": 25,
     "metadata": {},
     "output_type": "execute_result"
    }
   ],
   "source": [
    "lst.count(6)"
   ]
  },
  {
   "cell_type": "code",
   "execution_count": 26,
   "id": "811bb2be-9b50-4c53-a790-b890eaed5045",
   "metadata": {},
   "outputs": [
    {
     "data": {
      "text/plain": [
       "[1, 2, 3, 4, 6, 6, 5, 5]"
      ]
     },
     "execution_count": 26,
     "metadata": {},
     "output_type": "execute_result"
    }
   ],
   "source": [
    "lst2=[2,3,4,5]\n",
    "lst"
   ]
  },
  {
   "cell_type": "code",
   "execution_count": 27,
   "id": "bce9d74e-dade-43ab-99d7-08dbd15a85be",
   "metadata": {},
   "outputs": [
    {
     "data": {
      "text/plain": [
       "[2, 3, 4, 5, 1, 2, 3, 4, 6, 6, 5, 5]"
      ]
     },
     "execution_count": 27,
     "metadata": {},
     "output_type": "execute_result"
    }
   ],
   "source": [
    "lst2.extend(lst)\n",
    "lst2"
   ]
  },
  {
   "cell_type": "code",
   "execution_count": 23,
   "id": "e3a6f293-377c-4800-b3c7-a820fe673b0c",
   "metadata": {},
   "outputs": [
    {
     "name": "stdout",
     "output_type": "stream",
     "text": [
      "<class 'set'>\n"
     ]
    }
   ],
   "source": [
    "x={\"apple\"}\n",
    "print(type(x))"
   ]
  },
  {
   "cell_type": "code",
   "execution_count": 24,
   "id": "96e68da4-3c03-4136-bd91-e9ced6e35da4",
   "metadata": {},
   "outputs": [
    {
     "name": "stdout",
     "output_type": "stream",
     "text": [
      "<class 'list'>\n"
     ]
    }
   ],
   "source": [
    "x=[\"cherry\"]\n",
    "print(type(x))"
   ]
  },
  {
   "cell_type": "code",
   "execution_count": 31,
   "id": "2e512008-1a82-4e10-9f8e-420771f1cde8",
   "metadata": {},
   "outputs": [
    {
     "name": "stdout",
     "output_type": "stream",
     "text": [
      "<class 'bool'>\n"
     ]
    }
   ],
   "source": [
    "x=True\n",
    "print(type(x))"
   ]
  },
  {
   "cell_type": "code",
   "execution_count": 33,
   "id": "4c7b46ff-e044-4b72-9190-7e7c2cd2ae44",
   "metadata": {},
   "outputs": [
    {
     "name": "stdout",
     "output_type": "stream",
     "text": [
      "<class 'tuple'>\n"
     ]
    }
   ],
   "source": [
    "x=(\"cherry\",\"banana\")\n",
    "print(type(x))"
   ]
  },
  {
   "cell_type": "code",
   "execution_count": 41,
   "id": "e6e18f64-630c-4e24-9ce4-4f3ba342e2e7",
   "metadata": {},
   "outputs": [
    {
     "name": "stdout",
     "output_type": "stream",
     "text": [
      " my name is abhinav, i am at 24\n"
     ]
    }
   ],
   "source": [
    "name=\"abhinav\"\n",
    "age=24\n",
    "print(f\" my name is {name}, i am at {age}\")"
   ]
  },
  {
   "cell_type": "code",
   "execution_count": 42,
   "id": "71666c63-227d-435d-aa09-7cffd8ef3f07",
   "metadata": {},
   "outputs": [
    {
     "name": "stdout",
     "output_type": "stream",
     "text": [
      "('apple', 'cherry', 'banana')\n"
     ]
    }
   ],
   "source": [
    "x=\"apple\",\"cherry\",\"banana\"\n",
    "print(x)"
   ]
  },
  {
   "cell_type": "code",
   "execution_count": 50,
   "id": "04276da6-e997-42ba-9e12-f3d1ac933c7c",
   "metadata": {},
   "outputs": [
    {
     "name": "stdin",
     "output_type": "stream",
     "text": [
      "what is your name? abhinav\n"
     ]
    },
    {
     "name": "stdout",
     "output_type": "stream",
     "text": [
      "abhinav\n"
     ]
    },
    {
     "name": "stdin",
     "output_type": "stream",
     "text": [
      "what is your clg name? mitm\n"
     ]
    },
    {
     "name": "stdout",
     "output_type": "stream",
     "text": [
      "mitm\n"
     ]
    }
   ],
   "source": [
    "name=input(\"what is your name?\")\n",
    "print(name)\n",
    "clg=input(\"what is your clg name?\")\n",
    "print(clg)\n"
   ]
  },
  {
   "cell_type": "code",
   "execution_count": 51,
   "id": "ed208a20-c604-4566-a567-757c58e71695",
   "metadata": {},
   "outputs": [
    {
     "name": "stdout",
     "output_type": "stream",
     "text": [
      "the person is adult\n"
     ]
    }
   ],
   "source": [
    "age=12\n",
    "if age>18:\n",
    "    print(\"the person is child\")\n",
    "else:\n",
    "    print(\"the person is adult\")"
   ]
  },
  {
   "cell_type": "code",
   "execution_count": 52,
   "id": "225ac74f-5ace-48d2-9604-b4ec5d83c1e9",
   "metadata": {},
   "outputs": [
    {
     "name": "stdout",
     "output_type": "stream",
     "text": [
      "Yes\n"
     ]
    }
   ],
   "source": [
    "if 5>2:\n",
    "    print(\"Yes\")\n",
    "else:\n",
    "    print(\"No\")"
   ]
  },
  {
   "cell_type": "code",
   "execution_count": 71,
   "id": "8353d175-586d-42dd-8766-8a455c6f10fd",
   "metadata": {},
   "outputs": [
    {
     "name": "stdout",
     "output_type": "stream",
     "text": [
      "0\n",
      "1\n",
      "2\n",
      "3\n",
      "4\n",
      "5\n",
      "6\n",
      "7\n",
      "8\n",
      "9\n"
     ]
    }
   ],
   "source": [
    "for i in range(10):\n",
    "    print(i)"
   ]
  },
  {
   "cell_type": "code",
   "execution_count": 72,
   "id": "7eec9e9b-d682-40b1-8c5b-1df774eae598",
   "metadata": {},
   "outputs": [
    {
     "name": "stdout",
     "output_type": "stream",
     "text": [
      "1\n",
      "2\n",
      "3\n",
      "4\n"
     ]
    }
   ],
   "source": [
    "arr=[1,2,3,4]\n",
    "for item in arr:\n",
    "    print(item)"
   ]
  },
  {
   "cell_type": "code",
   "execution_count": 81,
   "id": "6d1b60da-37c0-4774-af65-9d5ec592939c",
   "metadata": {},
   "outputs": [
    {
     "data": {
      "text/plain": [
       "<function __main__.<lambda>(x)>"
      ]
     },
     "execution_count": 81,
     "metadata": {},
     "output_type": "execute_result"
    }
   ],
   "source": [
    "#lambda\n",
    "x=4\n",
    "func=lambda x:5\n",
    "func\n"
   ]
  },
  {
   "cell_type": "code",
   "execution_count": 80,
   "id": "fd1dbd9c-be10-4df0-8dc1-250544947e19",
   "metadata": {},
   "outputs": [
    {
     "name": "stdout",
     "output_type": "stream",
     "text": [
      "<function <lambda> at 0x000001E1D3B33C40>\n"
     ]
    }
   ],
   "source": [
    "print(func)"
   ]
  },
  {
   "cell_type": "code",
   "execution_count": 87,
   "id": "363ee2fe-44a5-4020-ac84-9ffae1806d49",
   "metadata": {},
   "outputs": [
    {
     "name": "stdout",
     "output_type": "stream",
     "text": [
      "4\n"
     ]
    }
   ],
   "source": [
    "print(func(1))"
   ]
  },
  {
   "cell_type": "code",
   "execution_count": 90,
   "id": "4280b9e2-417c-48fc-85ae-6f0d368ee89e",
   "metadata": {},
   "outputs": [
    {
     "data": {
      "text/plain": [
       "<function __main__.<lambda>(x, y, z)>"
      ]
     },
     "execution_count": 90,
     "metadata": {},
     "output_type": "execute_result"
    }
   ],
   "source": [
    "#x=4\n",
    "func=lambda x,y,z:x+y+z\n",
    "func"
   ]
  },
  {
   "cell_type": "code",
   "execution_count": 93,
   "id": "a125bf86-6906-468d-a901-ab2026a39f78",
   "metadata": {},
   "outputs": [
    {
     "name": "stdout",
     "output_type": "stream",
     "text": [
      "city name mysore\n"
     ]
    }
   ],
   "source": [
    "city_name=\"mysore\"\n",
    "print(f\"city name {city_name}\")\n"
   ]
  },
  {
   "cell_type": "code",
   "execution_count": 98,
   "id": "d7b9ffa3-4a79-4083-bd0f-5b43a6b37e6c",
   "metadata": {},
   "outputs": [
    {
     "name": "stdout",
     "output_type": "stream",
     "text": [
      "mysore temperature is 30\n"
     ]
    }
   ],
   "source": [
    "temperature=30\n",
    "print(f\"mysore temperature is {temperature}\")"
   ]
  },
  {
   "cell_type": "code",
   "execution_count": 99,
   "id": "1335a193-9c2b-45a6-b940-a81101e0b086",
   "metadata": {},
   "outputs": [
    {
     "name": "stdout",
     "output_type": "stream",
     "text": [
      "corban footprint is 400.78 kg CO2\n"
     ]
    }
   ],
   "source": [
    "x=400.78\n",
    "print(f\"corban footprint is {x} kg CO2\")"
   ]
  },
  {
   "cell_type": "code",
   "execution_count": 105,
   "id": "b3a9a0ba-b29e-470d-90ee-c1654b81d97e",
   "metadata": {},
   "outputs": [
    {
     "name": "stdin",
     "output_type": "stream",
     "text": [
      "is the city sustainable? False\n"
     ]
    }
   ],
   "source": [
    "name=input(\"is the city sustainable?\")\n",
    "\n"
   ]
  },
  {
   "cell_type": "code",
   "execution_count": 106,
   "id": "f9595a9a-76be-41ac-b242-3c561866f1c4",
   "metadata": {},
   "outputs": [
    {
     "name": "stdout",
     "output_type": "stream",
     "text": [
      "weekly_temperature:[12, 23, 45, 56, 34, 45, 66]\n"
     ]
    }
   ],
   "source": [
    "weekly_temperature=[12,23,45,56,34,45,66]\n",
    "print(f\"weekly_temperature:{weekly_temperature}\")"
   ]
  },
  {
   "cell_type": "code",
   "execution_count": 111,
   "id": "0e4db521-48e1-4038-9886-29054d371235",
   "metadata": {},
   "outputs": [
    {
     "name": "stdout",
     "output_type": "stream",
     "text": [
      "Cities with high temperatures (>26 C):\n",
      "Bengaluru - 29C\n",
      "Mandya - 29C\n",
      "Udupi - 28C\n"
     ]
    }
   ],
   "source": [
    "climate_data=[\n",
    "    {\"city\":\"Bengaluru\",\"temp\":29,\"carbon_footprinting\":504},\n",
    "    {\"city\":\"Mysuru\",\"temp\":24,\"carbon_footprinting\":540},\n",
    "    {\"city\":\"Mandya\",\"temp\":29,\"carbon_footprinting\":504},\n",
    "    {\"city\":\"Udupi\",\"temp\":28,\"carbon_footprinting\":408},\n",
    "    {\"city\":\"Mangluru\",\"temp\":23,\"carbon_footprinting\":200},\n",
    "]\n",
    "\n",
    "high_temp_threshold=26\n",
    "\n",
    "high_temp_cities=[city for city in climate_data if city[\"temp\"]>high_temp_threshold]\n",
    "\n",
    "print(\"Cities with high temperatures (>26 C):\")\n",
    "for city in high_temp_cities:\n",
    "    print(f\"{city['city']} - {city['temp']}C\")\n"
   ]
  },
  {
   "cell_type": "code",
   "execution_count": null,
   "id": "a5ffdf61-6439-44da-bc31-f72826805455",
   "metadata": {},
   "outputs": [],
   "source": [
    "total_carbon=0\n",
    "for city in climate_data:\n",
    "total_carbon+=carbon /len(climate_date)\n",
    "print(f\"\\nAverage carbon footprint "
   ]
  },
  {
   "cell_type": "code",
   "execution_count": 15,
   "id": "a0102e18-4c41-4ca7-a8b9-b5e52ace9671",
   "metadata": {},
   "outputs": [],
   "source": [
    "def calculate_carbon_footprint(energy_consumption,emission_factor):\n",
    "    return energy_consumption * emission_factor"
   ]
  },
  {
   "cell_type": "code",
   "execution_count": 16,
   "id": "e4b5817b-7ac2-452c-921b-0c9fda8f7f2e",
   "metadata": {},
   "outputs": [
    {
     "name": "stdout",
     "output_type": "stream",
     "text": [
      "carbon_footprint:475.0kg CO2\n"
     ]
    }
   ],
   "source": [
    "energy_consumption=1000\n",
    "emission_factor=0.475\n",
    "carbon_footprint=calculate_carbon_footprint(energy_consumption,emission_factor)\n",
    "print(f\"carbon_footprint:{carbon_footprint}kg CO2\")"
   ]
  },
  {
   "cell_type": "code",
   "execution_count": 24,
   "id": "b0103635-d434-4312-953d-dd423adb120b",
   "metadata": {},
   "outputs": [
    {
     "name": "stdout",
     "output_type": "stream",
     "text": [
      "Sustainability Cities\n",
      "City B\n",
      "City D\n"
     ]
    }
   ],
   "source": [
    "cities=[\n",
    "    {\"name\":\"City A\", \"carbon_footprint\":500},\n",
    "    {\"name\":\"City B\", \"carbon_footprint\":350},\n",
    "    {\"name\":\"City C\", \"carbon_footprint\":600},\n",
    "    {\"name\":\"City D\", \"carbon_footprint\":200}\n",
    "    ]\n",
    "sustainability_threshold=400\n",
    "sustainability_cities=list(filter(lambda city:city[\"carbon_footprint\"] < sustainability_threshold,cities))\n",
    "print(\"Sustainability Cities\")\n",
    "for city in sustainability_cities:\n",
    "    print(city[\"name\"])"
   ]
  },
  {
   "cell_type": "code",
   "execution_count": 36,
   "id": "3907580a-9114-4d1e-9d31-aede1aecd723",
   "metadata": {},
   "outputs": [],
   "source": [
    "class Person:\n",
    "    def __init__(self, name, age):\n",
    "        self.name = name\n",
    "        self.age = age\n"
   ]
  },
  {
   "cell_type": "code",
   "execution_count": 41,
   "id": "a5e487fe-2deb-4360-a27b-2cfa93c70ab0",
   "metadata": {},
   "outputs": [
    {
     "name": "stdout",
     "output_type": "stream",
     "text": [
      "maruthi\n"
     ]
    }
   ],
   "source": [
    "car=[\"maruthi\",\"thar\",\"lamborgini\"]\n",
    "if \"BMW\" in car:\n",
    "    print(\"BMW\")\n",
    "else:\n",
    "    print(\"maruthi\")"
   ]
  },
  {
   "cell_type": "code",
   "execution_count": 42,
   "id": "9357500c-e3f8-4991-8e8f-168de84ec994",
   "metadata": {},
   "outputs": [],
   "source": [
    "class car:\n",
    "    wheels=4 #class atribute\n",
    "    def __init__(self,make,year):\n",
    "        self.make=make\n",
    "        self.year=year\n",
    "    def start_engine(self):#intstant method\n",
    "        print('angine started!')\n",
    "\n",
    "    @classmethod #class method \n",
    "    def get_wheels(cls):\n",
    "        return cls.wheels\n",
    "\n",
    "    @staticmethod\n",
    "    def is_motor_vehicle():\n",
    "        return True"
   ]
  },
  {
   "cell_type": "code",
   "execution_count": 43,
   "id": "54f67834-5b9c-45f9-b401-97e6fa920e32",
   "metadata": {},
   "outputs": [
    {
     "data": {
      "text/plain": [
       "True"
      ]
     },
     "execution_count": 43,
     "metadata": {},
     "output_type": "execute_result"
    }
   ],
   "source": [
    "car.is_motor_vehicle()\n"
   ]
  },
  {
   "cell_type": "code",
   "execution_count": 75,
   "id": "e992bbf9-8623-4e35-a59d-68da91183a13",
   "metadata": {},
   "outputs": [
    {
     "data": {
      "text/plain": [
       "'abhinav'"
      ]
     },
     "execution_count": 75,
     "metadata": {},
     "output_type": "execute_result"
    }
   ],
   "source": [
    "class Person:\n",
    "    def __init__(self,name,age):\n",
    "        self.__name=name #protected distribute\n",
    "        self.__age=age #protected distribute\n",
    "    def get_name(self):\n",
    "        return self.__name\n",
    "person=Person('abhinav',15)\n",
    "person.get_name()\n"
   ]
  },
  {
   "cell_type": "code",
   "execution_count": 93,
   "id": "3387df05-163f-4339-8430-f9e79e4aaa4c",
   "metadata": {},
   "outputs": [],
   "source": [
    "class vehicle:\n",
    "    def __init__(self,brand,model):\n",
    "        self.brand=brand\n",
    "        self.model=model\n",
    "    def display_info(self):\n",
    "        return f\"{self.brand}{self.model}\"\n",
    "        \n",
    "class car(vehicle):\n",
    "    def __init__(self,model,brands,doors):\n",
    "        super().__init__(brands,model)\n",
    "        self.doors=doors\n",
    "    def display_info(self):\n",
    "         return f\"{self.brand} {self.model} {self.doors}\"\n",
    "    "
   ]
  },
  {
   "cell_type": "code",
   "execution_count": 96,
   "id": "87c4460b-b04e-4340-b5c0-37e6f5144a46",
   "metadata": {},
   "outputs": [
    {
     "data": {
      "text/plain": [
       "('Tata', 'Nexon', 5)"
      ]
     },
     "metadata": {},
     "output_type": "display_data"
    }
   ],
   "source": [
    "my_car=('Tata','Nexon',5)\n",
    "display(my_car)\n"
   ]
  },
  {
   "cell_type": "code",
   "execution_count": 98,
   "id": "0d09d2f8-41a4-40b4-9e40-791d06e43e03",
   "metadata": {},
   "outputs": [],
   "source": [
    "class Animal:\n",
    "    def make_sound(self):\n",
    "        print('Animal makes sound!')\n",
    "class Dog(Animal):\n",
    "    def make_sound(self):\n",
    "        print('Bark!!!')"
   ]
  },
  {
   "cell_type": "code",
   "execution_count": 99,
   "id": "28b0572a-7a13-4b29-b454-7d4a146efe6f",
   "metadata": {},
   "outputs": [],
   "source": [
    "dog1=Dog()"
   ]
  },
  {
   "cell_type": "code",
   "execution_count": 100,
   "id": "ecf2a34d-307a-43c8-a474-1481231383c0",
   "metadata": {},
   "outputs": [
    {
     "name": "stdout",
     "output_type": "stream",
     "text": [
      "Bark!!!\n"
     ]
    }
   ],
   "source": [
    "dog1.make_sound()"
   ]
  },
  {
   "cell_type": "code",
   "execution_count": 115,
   "id": "b78f7034-0fb5-49f8-996d-08eb374187de",
   "metadata": {},
   "outputs": [],
   "source": [
    "class Example:\n",
    "    def sum(self,*args):\n",
    "        return sum(args)"
   ]
  },
  {
   "cell_type": "code",
   "execution_count": 116,
   "id": "bfb065dd-1560-4314-8508-2b743deb99b1",
   "metadata": {},
   "outputs": [],
   "source": [
    "e=Example()"
   ]
  },
  {
   "cell_type": "code",
   "execution_count": 117,
   "id": "f1cb7060-f043-47ac-9658-cc59d0098011",
   "metadata": {},
   "outputs": [
    {
     "data": {
      "text/plain": [
       "3"
      ]
     },
     "execution_count": 117,
     "metadata": {},
     "output_type": "execute_result"
    }
   ],
   "source": [
    "e.sum(1,2)"
   ]
  },
  {
   "cell_type": "code",
   "execution_count": 121,
   "id": "01cbbe59-74b4-4ded-925c-6ce0136ea768",
   "metadata": {},
   "outputs": [
    {
     "data": {
      "text/plain": [
       "934"
      ]
     },
     "execution_count": 121,
     "metadata": {},
     "output_type": "execute_result"
    }
   ],
   "source": [
    "e.sum(1,2,3,5,6,8,9,900)"
   ]
  },
  {
   "cell_type": "code",
   "execution_count": 122,
   "id": "882d599d-aaaf-4486-a0df-811832044544",
   "metadata": {},
   "outputs": [],
   "source": [
    "import pandas as pd"
   ]
  },
  {
   "cell_type": "code",
   "execution_count": 124,
   "id": "0f410cf0-63f0-4543-92c5-b73a8254eb83",
   "metadata": {},
   "outputs": [],
   "source": [
    "x=pd.Series([1,2,3,4])"
   ]
  },
  {
   "cell_type": "code",
   "execution_count": 125,
   "id": "734c80b8-dd79-4ce8-8c73-a99fc5b27c01",
   "metadata": {},
   "outputs": [
    {
     "data": {
      "text/plain": [
       "0    1\n",
       "1    2\n",
       "2    3\n",
       "3    4\n",
       "dtype: int64"
      ]
     },
     "execution_count": 125,
     "metadata": {},
     "output_type": "execute_result"
    }
   ],
   "source": [
    "x"
   ]
  },
  {
   "cell_type": "code",
   "execution_count": 135,
   "id": "3c29f0f6-c9ca-484f-9376-ad908aa52dc7",
   "metadata": {},
   "outputs": [
    {
     "data": {
      "text/plain": [
       "1"
      ]
     },
     "execution_count": 135,
     "metadata": {},
     "output_type": "execute_result"
    }
   ],
   "source": [
    "x.ndim"
   ]
  },
  {
   "cell_type": "code",
   "execution_count": 127,
   "id": "48d69c08-8e3d-4f61-bae8-b11031b2b9d1",
   "metadata": {},
   "outputs": [],
   "source": [
    "y=pd.DataFrame([[1,2],[3,4]])"
   ]
  },
  {
   "cell_type": "code",
   "execution_count": 128,
   "id": "3af651b7-1126-4f68-acb8-86883822eef7",
   "metadata": {},
   "outputs": [
    {
     "data": {
      "text/html": [
       "<div>\n",
       "<style scoped>\n",
       "    .dataframe tbody tr th:only-of-type {\n",
       "        vertical-align: middle;\n",
       "    }\n",
       "\n",
       "    .dataframe tbody tr th {\n",
       "        vertical-align: top;\n",
       "    }\n",
       "\n",
       "    .dataframe thead th {\n",
       "        text-align: right;\n",
       "    }\n",
       "</style>\n",
       "<table border=\"1\" class=\"dataframe\">\n",
       "  <thead>\n",
       "    <tr style=\"text-align: right;\">\n",
       "      <th></th>\n",
       "      <th>0</th>\n",
       "      <th>1</th>\n",
       "    </tr>\n",
       "  </thead>\n",
       "  <tbody>\n",
       "    <tr>\n",
       "      <th>0</th>\n",
       "      <td>1</td>\n",
       "      <td>2</td>\n",
       "    </tr>\n",
       "    <tr>\n",
       "      <th>1</th>\n",
       "      <td>3</td>\n",
       "      <td>4</td>\n",
       "    </tr>\n",
       "  </tbody>\n",
       "</table>\n",
       "</div>"
      ],
      "text/plain": [
       "   0  1\n",
       "0  1  2\n",
       "1  3  4"
      ]
     },
     "execution_count": 128,
     "metadata": {},
     "output_type": "execute_result"
    }
   ],
   "source": [
    "y"
   ]
  },
  {
   "cell_type": "code",
   "execution_count": 130,
   "id": "5f0d9b2d-2811-4924-87f9-98eda36bbe12",
   "metadata": {},
   "outputs": [
    {
     "data": {
      "text/plain": [
       "2"
      ]
     },
     "execution_count": 130,
     "metadata": {},
     "output_type": "execute_result"
    }
   ],
   "source": [
    "y.ndim"
   ]
  },
  {
   "cell_type": "code",
   "execution_count": 142,
   "id": "fe3ff02e-4089-41a5-b763-c39c35b12b1a",
   "metadata": {},
   "outputs": [],
   "source": [
    "z=pd.DataFrame([[1,2,3,2],[4,5,6,3],[7,8,9,4]])"
   ]
  },
  {
   "cell_type": "code",
   "execution_count": 143,
   "id": "7dcd0d86-be4f-44c8-a348-8e58a7871bb5",
   "metadata": {},
   "outputs": [
    {
     "data": {
      "text/html": [
       "<div>\n",
       "<style scoped>\n",
       "    .dataframe tbody tr th:only-of-type {\n",
       "        vertical-align: middle;\n",
       "    }\n",
       "\n",
       "    .dataframe tbody tr th {\n",
       "        vertical-align: top;\n",
       "    }\n",
       "\n",
       "    .dataframe thead th {\n",
       "        text-align: right;\n",
       "    }\n",
       "</style>\n",
       "<table border=\"1\" class=\"dataframe\">\n",
       "  <thead>\n",
       "    <tr style=\"text-align: right;\">\n",
       "      <th></th>\n",
       "      <th>0</th>\n",
       "      <th>1</th>\n",
       "      <th>2</th>\n",
       "      <th>3</th>\n",
       "    </tr>\n",
       "  </thead>\n",
       "  <tbody>\n",
       "    <tr>\n",
       "      <th>0</th>\n",
       "      <td>1</td>\n",
       "      <td>2</td>\n",
       "      <td>3</td>\n",
       "      <td>2</td>\n",
       "    </tr>\n",
       "    <tr>\n",
       "      <th>1</th>\n",
       "      <td>4</td>\n",
       "      <td>5</td>\n",
       "      <td>6</td>\n",
       "      <td>3</td>\n",
       "    </tr>\n",
       "    <tr>\n",
       "      <th>2</th>\n",
       "      <td>7</td>\n",
       "      <td>8</td>\n",
       "      <td>9</td>\n",
       "      <td>4</td>\n",
       "    </tr>\n",
       "  </tbody>\n",
       "</table>\n",
       "</div>"
      ],
      "text/plain": [
       "   0  1  2  3\n",
       "0  1  2  3  2\n",
       "1  4  5  6  3\n",
       "2  7  8  9  4"
      ]
     },
     "execution_count": 143,
     "metadata": {},
     "output_type": "execute_result"
    }
   ],
   "source": [
    "z"
   ]
  },
  {
   "cell_type": "code",
   "execution_count": 144,
   "id": "af6326de-a458-4a3f-aaf5-8791021632d7",
   "metadata": {},
   "outputs": [
    {
     "data": {
      "text/plain": [
       "2"
      ]
     },
     "execution_count": 144,
     "metadata": {},
     "output_type": "execute_result"
    }
   ],
   "source": [
    "z.ndim"
   ]
  },
  {
   "cell_type": "code",
   "execution_count": 3,
   "id": "2cfcffca-46f3-4476-ad6e-7b59ed77339a",
   "metadata": {},
   "outputs": [
    {
     "data": {
      "text/plain": [
       "0               Solar\n",
       "1                Wind\n",
       "2    HydroGeothhermal\n",
       "3               Tidal\n",
       "dtype: object"
      ]
     },
     "execution_count": 3,
     "metadata": {},
     "output_type": "execute_result"
    }
   ],
   "source": [
    "import pandas as pd\n",
    "renewable_source=['Solar','Wind','Hydro''Geothhermal','Tidal']\n",
    "rs=pd.Series(renewable_source)\n",
    "rs"
   ]
  },
  {
   "cell_type": "code",
   "execution_count": 16,
   "id": "5a793e05-2b6a-4a67-b118-e6bb11166145",
   "metadata": {},
   "outputs": [
    {
     "data": {
      "text/html": [
       "<div>\n",
       "<style scoped>\n",
       "    .dataframe tbody tr th:only-of-type {\n",
       "        vertical-align: middle;\n",
       "    }\n",
       "\n",
       "    .dataframe tbody tr th {\n",
       "        vertical-align: top;\n",
       "    }\n",
       "\n",
       "    .dataframe thead th {\n",
       "        text-align: right;\n",
       "    }\n",
       "</style>\n",
       "<table border=\"1\" class=\"dataframe\">\n",
       "  <thead>\n",
       "    <tr style=\"text-align: right;\">\n",
       "      <th></th>\n",
       "      <th>Project</th>\n",
       "      <th>Technology</th>\n",
       "      <th>Capacity</th>\n",
       "      <th>Cost</th>\n",
       "      <th>Location</th>\n",
       "      <th>YOC</th>\n",
       "    </tr>\n",
       "  </thead>\n",
       "  <tbody>\n",
       "    <tr>\n",
       "      <th>0</th>\n",
       "      <td>solar farm</td>\n",
       "      <td>solar</td>\n",
       "      <td>150</td>\n",
       "      <td>200</td>\n",
       "      <td>california</td>\n",
       "      <td>2023</td>\n",
       "    </tr>\n",
       "    <tr>\n",
       "      <th>1</th>\n",
       "      <td>wind turbine</td>\n",
       "      <td>wind</td>\n",
       "      <td>300</td>\n",
       "      <td>400</td>\n",
       "      <td>texas</td>\n",
       "      <td>2022</td>\n",
       "    </tr>\n",
       "    <tr>\n",
       "      <th>2</th>\n",
       "      <td>hydro plant</td>\n",
       "      <td>hydro</td>\n",
       "      <td>200</td>\n",
       "      <td>350</td>\n",
       "      <td>washington</td>\n",
       "      <td>2021</td>\n",
       "    </tr>\n",
       "    <tr>\n",
       "      <th>3</th>\n",
       "      <td>geothermal station</td>\n",
       "      <td>geothermal</td>\n",
       "      <td>50</td>\n",
       "      <td>100</td>\n",
       "      <td>nevada</td>\n",
       "      <td>2023</td>\n",
       "    </tr>\n",
       "    <tr>\n",
       "      <th>4</th>\n",
       "      <td>tidal plant</td>\n",
       "      <td>tidal</td>\n",
       "      <td>170</td>\n",
       "      <td>250</td>\n",
       "      <td>LA</td>\n",
       "      <td>2022</td>\n",
       "    </tr>\n",
       "  </tbody>\n",
       "</table>\n",
       "</div>"
      ],
      "text/plain": [
       "              Project  Technology  Capacity  Cost    Location   YOC\n",
       "0          solar farm       solar       150   200  california  2023\n",
       "1        wind turbine        wind       300   400       texas  2022\n",
       "2         hydro plant       hydro       200   350  washington  2021\n",
       "3  geothermal station  geothermal        50   100      nevada  2023\n",
       "4         tidal plant       tidal       170   250          LA  2022"
      ]
     },
     "execution_count": 16,
     "metadata": {},
     "output_type": "execute_result"
    }
   ],
   "source": [
    "#dataframe\n",
    "data={\n",
    "    'Project':['solar farm', 'wind turbine', 'hydro plant', 'geothermal station','tidal plant'],\n",
    "    'Technology':['solar', 'wind', 'hydro', 'geothermal','tidal'],\n",
    "    'Capacity':[150,300,200,50,170],\n",
    "    'Cost':[200,400,350,100,250],\n",
    "    'Location':['california', 'texas', 'washington','nevada','LA'],\n",
    "    'YOC':[2023,2022,2021,2023,2022]\n",
    "}\n",
    "df=pd.DataFrame(data)\n",
    "df"
   ]
  },
  {
   "cell_type": "code",
   "execution_count": 19,
   "id": "c871b45f-8cb7-4ed0-acf2-addb474c6d0b",
   "metadata": {},
   "outputs": [
    {
     "name": "stdout",
     "output_type": "stream",
     "text": [
      "high capacity projects are 0    False\n",
      "1     True\n",
      "2     True\n",
      "3    False\n",
      "4     True\n",
      "Name: Capacity, dtype: bool\n"
     ]
    }
   ],
   "source": [
    "high_capacity=df['Capacity']>150\n",
    "print(f\"high capacity projects are {high_capacity}\")"
   ]
  },
  {
   "cell_type": "code",
   "execution_count": 22,
   "id": "d7d0f0a8-ca42-4f00-a5ca-0106551eeaa2",
   "metadata": {},
   "outputs": [
    {
     "data": {
      "text/html": [
       "<div>\n",
       "<style scoped>\n",
       "    .dataframe tbody tr th:only-of-type {\n",
       "        vertical-align: middle;\n",
       "    }\n",
       "\n",
       "    .dataframe tbody tr th {\n",
       "        vertical-align: top;\n",
       "    }\n",
       "\n",
       "    .dataframe thead th {\n",
       "        text-align: right;\n",
       "    }\n",
       "</style>\n",
       "<table border=\"1\" class=\"dataframe\">\n",
       "  <thead>\n",
       "    <tr style=\"text-align: right;\">\n",
       "      <th></th>\n",
       "      <th>Project</th>\n",
       "      <th>Technology</th>\n",
       "      <th>Capacity(MW)</th>\n",
       "      <th>Cost(Million$)</th>\n",
       "      <th>YOC</th>\n",
       "    </tr>\n",
       "  </thead>\n",
       "  <tbody>\n",
       "    <tr>\n",
       "      <th>0</th>\n",
       "      <td>Solar Farm</td>\n",
       "      <td>Solar</td>\n",
       "      <td>150</td>\n",
       "      <td>California</td>\n",
       "      <td>2023</td>\n",
       "    </tr>\n",
       "    <tr>\n",
       "      <th>1</th>\n",
       "      <td>Wind Turbine</td>\n",
       "      <td>Wind</td>\n",
       "      <td>300</td>\n",
       "      <td>Texas</td>\n",
       "      <td>2022</td>\n",
       "    </tr>\n",
       "    <tr>\n",
       "      <th>2</th>\n",
       "      <td>Hydro Plant</td>\n",
       "      <td>Hydro</td>\n",
       "      <td>200</td>\n",
       "      <td>Washington</td>\n",
       "      <td>2021</td>\n",
       "    </tr>\n",
       "    <tr>\n",
       "      <th>3</th>\n",
       "      <td>Geothhermal Station</td>\n",
       "      <td>Geothhermal</td>\n",
       "      <td>59</td>\n",
       "      <td>Nevada</td>\n",
       "      <td>2023</td>\n",
       "    </tr>\n",
       "    <tr>\n",
       "      <th>4</th>\n",
       "      <td>Tidal plant</td>\n",
       "      <td>Tidal plant</td>\n",
       "      <td>175</td>\n",
       "      <td>LA</td>\n",
       "      <td>2022</td>\n",
       "    </tr>\n",
       "  </tbody>\n",
       "</table>\n",
       "</div>"
      ],
      "text/plain": [
       "               Project   Technology  Capacity(MW) Cost(Million$)   YOC\n",
       "0           Solar Farm        Solar           150     California  2023\n",
       "1         Wind Turbine         Wind           300          Texas  2022\n",
       "2          Hydro Plant        Hydro           200     Washington  2021\n",
       "3  Geothhermal Station  Geothhermal            59         Nevada  2023\n",
       "4          Tidal plant  Tidal plant           175             LA  2022"
      ]
     },
     "execution_count": 22,
     "metadata": {},
     "output_type": "execute_result"
    }
   ],
   "source": [
    "#dataframe\n",
    "data={\n",
    "    'Project':['Solar Farm' ,'Wind Turbine','Hydro Plant','Geothhermal Station','Tidal plant'],\n",
    "    'Technology':['Solar','Wind','Hydro','Geothhermal','Tidal plant'],\n",
    "    'Capacity(MW)':[150,300,200,59,175],\n",
    "    'Cost(Million$)':['California','Texas','Washington','Nevada','LA'],\n",
    "    'YOC':[2023,2022,2021,2023,2022]\n",
    "}\n",
    "df=pd.DataFrame(data)\n",
    "df\n",
    "\n"
   ]
  },
  {
   "cell_type": "code",
   "execution_count": 25,
   "id": "abe4eee2-ba39-4a67-88a0-c99c0452494c",
   "metadata": {},
   "outputs": [
    {
     "name": "stdout",
     "output_type": "stream",
     "text": [
      "the total cost is 1300 million $  and the total capacity is 875MW\n"
     ]
    }
   ],
   "source": [
    "print(\"the total cost is 1300 million $  and the total capacity is 875MW\")"
   ]
  },
  {
   "cell_type": "code",
   "execution_count": 27,
   "id": "d2857ff4-5151-458d-95a5-b39ab391708f",
   "metadata": {},
   "outputs": [
    {
     "data": {
      "text/plain": [
       "array([1, 2])"
      ]
     },
     "execution_count": 27,
     "metadata": {},
     "output_type": "execute_result"
    }
   ],
   "source": [
    "import numpy as np\n",
    "a=np.array([1,2])\n",
    "a"
   ]
  },
  {
   "cell_type": "code",
   "execution_count": 28,
   "id": "d18132de-4b7c-4078-b681-cdaa99e7b51f",
   "metadata": {},
   "outputs": [
    {
     "data": {
      "text/plain": [
       "1"
      ]
     },
     "execution_count": 28,
     "metadata": {},
     "output_type": "execute_result"
    }
   ],
   "source": [
    "a.ndim"
   ]
  },
  {
   "cell_type": "code",
   "execution_count": 30,
   "id": "bdc85d5d-6676-4cbb-8c0e-a0df6db8be77",
   "metadata": {},
   "outputs": [
    {
     "data": {
      "text/plain": [
       "array([[1, 2],\n",
       "       [3, 4]])"
      ]
     },
     "execution_count": 30,
     "metadata": {},
     "output_type": "execute_result"
    }
   ],
   "source": [
    "import numpy as np\n",
    "b=np.array([[1,2],[3,4]])\n",
    "b"
   ]
  },
  {
   "cell_type": "code",
   "execution_count": 32,
   "id": "3a231ca4-54c9-42b3-931b-ce8b7ec2ada2",
   "metadata": {},
   "outputs": [
    {
     "data": {
      "text/plain": [
       "2"
      ]
     },
     "execution_count": 32,
     "metadata": {},
     "output_type": "execute_result"
    }
   ],
   "source": [
    "b.ndim"
   ]
  },
  {
   "cell_type": "code",
   "execution_count": 39,
   "id": "24fe6417-1b40-4add-822f-99b530d52faf",
   "metadata": {},
   "outputs": [
    {
     "data": {
      "text/plain": [
       "array([[1, 2, 3],\n",
       "       [4, 5, 6],\n",
       "       [7, 8, 9],\n",
       "       [1, 3, 5],\n",
       "       [2, 4, 6],\n",
       "       [3, 5, 4],\n",
       "       [9, 4, 6],\n",
       "       [3, 8, 9],\n",
       "       [6, 3, 5]])"
      ]
     },
     "execution_count": 39,
     "metadata": {},
     "output_type": "execute_result"
    }
   ],
   "source": [
    "import numpy as np\n",
    "c=np.array([[1,2,3,],[4,5,6,],[7,8,9],[1,3,5],[2,4,6,],[3,5,4],[9,4,6],[3,8,9],[6,3,5]])\n",
    "c"
   ]
  },
  {
   "cell_type": "code",
   "execution_count": 40,
   "id": "c15b510f-6d2f-4411-a2d3-1cb17d05ecf6",
   "metadata": {},
   "outputs": [
    {
     "data": {
      "text/plain": [
       "2"
      ]
     },
     "execution_count": 40,
     "metadata": {},
     "output_type": "execute_result"
    }
   ],
   "source": [
    "c.ndim"
   ]
  },
  {
   "cell_type": "code",
   "execution_count": 41,
   "id": "32876ade-b9fc-4419-89bc-7454ef5d2b82",
   "metadata": {},
   "outputs": [
    {
     "data": {
      "text/plain": [
       "array([0.86433101, 0.28070703, 0.33273983, 0.1500428 , 0.87227537])"
      ]
     },
     "execution_count": 41,
     "metadata": {},
     "output_type": "execute_result"
    }
   ],
   "source": [
    "z=np.random.rand(5)\n",
    "z"
   ]
  },
  {
   "cell_type": "code",
   "execution_count": 42,
   "id": "b47d04e1-96d5-426a-bcba-44abc522b40c",
   "metadata": {},
   "outputs": [
    {
     "data": {
      "text/plain": [
       "array([[0.29889783, 0.4665037 , 0.42092661],\n",
       "       [0.76683022, 0.5110353 , 0.01983838],\n",
       "       [0.41531425, 0.70366766, 0.78326637]])"
      ]
     },
     "execution_count": 42,
     "metadata": {},
     "output_type": "execute_result"
    }
   ],
   "source": [
    "y=np.random.rand(3,3)\n",
    "y"
   ]
  },
  {
   "cell_type": "code",
   "execution_count": 44,
   "id": "29b64490-e257-441f-8b76-65df878b9d2d",
   "metadata": {},
   "outputs": [
    {
     "data": {
      "text/plain": [
       "array([[0.28758371, 0.59946108, 0.21553973, 0.08607963, 0.62193732],\n",
       "       [0.28018825, 0.82165523, 0.32630329, 0.23782949, 0.7604989 ],\n",
       "       [0.56538284, 0.93925115, 0.17860304, 0.14823288, 0.20987846],\n",
       "       [0.00519897, 0.57106812, 0.8694008 , 0.06934195, 0.23527903],\n",
       "       [0.89298717, 0.71632108, 0.40790461, 0.40017097, 0.43151026]])"
      ]
     },
     "execution_count": 44,
     "metadata": {},
     "output_type": "execute_result"
    }
   ],
   "source": [
    "y=np.random.rand(5,5)\n",
    "y"
   ]
  },
  {
   "cell_type": "code",
   "execution_count": 45,
   "id": "c2d860d8-6c5b-4d4b-be88-c655484fc516",
   "metadata": {},
   "outputs": [
    {
     "data": {
      "text/plain": [
       "array([3, 9, 8, 7, 6, 7, 6, 2])"
      ]
     },
     "execution_count": 45,
     "metadata": {},
     "output_type": "execute_result"
    }
   ],
   "source": [
    "x=np.random.randint(2,10,8)\n",
    "x"
   ]
  },
  {
   "cell_type": "code",
   "execution_count": 47,
   "id": "78d67233-0be9-40a2-b7e6-e40e0e694eaa",
   "metadata": {},
   "outputs": [
    {
     "data": {
      "text/plain": [
       "array([[5, 7, 3, 7],\n",
       "       [0, 1, 5, 4],\n",
       "       [8, 3, 1, 8],\n",
       "       [6, 1, 4, 6]])"
      ]
     },
     "execution_count": 47,
     "metadata": {},
     "output_type": "execute_result"
    }
   ],
   "source": [
    "x=np.random.randint(0,10,size=(4,4))\n",
    "x"
   ]
  },
  {
   "cell_type": "code",
   "execution_count": 48,
   "id": "478e1f8a-40ff-4d60-89d2-02952499f04e",
   "metadata": {},
   "outputs": [],
   "source": [
    "a=np.random.choice(5)"
   ]
  },
  {
   "cell_type": "code",
   "execution_count": 49,
   "id": "1fc87998-ea5c-4caa-873a-382634f687af",
   "metadata": {},
   "outputs": [
    {
     "data": {
      "text/plain": [
       "3"
      ]
     },
     "execution_count": 49,
     "metadata": {},
     "output_type": "execute_result"
    }
   ],
   "source": [
    "a"
   ]
  },
  {
   "cell_type": "code",
   "execution_count": 50,
   "id": "e5e1837a-35e2-42eb-8c5c-3798ae767929",
   "metadata": {},
   "outputs": [
    {
     "data": {
      "text/plain": [
       "array([0, 1, 3, 2, 4])"
      ]
     },
     "execution_count": 50,
     "metadata": {},
     "output_type": "execute_result"
    }
   ],
   "source": [
    "w1=np.random.choice(5,5,replace=False)\n",
    "w1"
   ]
  },
  {
   "cell_type": "code",
   "execution_count": 13,
   "id": "0c76433a-9a11-4711-a8c5-798aa9375d74",
   "metadata": {},
   "outputs": [
    {
     "name": "stdout",
     "output_type": "stream",
     "text": [
      "Requirement already satisfied: numpy in c:\\users\\dell\\anaconda3\\lib\\site-packages (1.26.4)\n",
      "Note: you may need to restart the kernel to use updated packages.\n"
     ]
    }
   ],
   "source": [
    "pip install numpy"
   ]
  },
  {
   "cell_type": "code",
   "execution_count": 15,
   "id": "1d4dd660-e5bc-4b63-b04f-7677cf0de85d",
   "metadata": {},
   "outputs": [],
   "source": [
    "import numpy as np"
   ]
  },
  {
   "cell_type": "code",
   "execution_count": 16,
   "id": "9330fcc6-d10d-46be-9e8a-5d0b501a2dfe",
   "metadata": {},
   "outputs": [
    {
     "name": "stdout",
     "output_type": "stream",
     "text": [
      "energy consuption (in MWh) for different renewable source: [1200 3400 1800 2900 2500]\n"
     ]
    }
   ],
   "source": [
    "energy_consuption=np.array([1200,3400,1800,2900,2500])\n",
    "print(\"energy consuption (in MWh) for different renewable source:\",energy_consuption)"
   ]
  },
  {
   "cell_type": "code",
   "execution_count": 17,
   "id": "d0e4871d-6bdf-4dcf-85ee-2e31254617d0",
   "metadata": {},
   "outputs": [
    {
     "data": {
      "text/plain": [
       "11800"
      ]
     },
     "execution_count": 17,
     "metadata": {},
     "output_type": "execute_result"
    }
   ],
   "source": [
    "x=np.sum(energy_consuption)\n",
    "x"
   ]
  },
  {
   "cell_type": "code",
   "execution_count": 18,
   "id": "a494faa1-6741-444f-b39c-436154bf485c",
   "metadata": {},
   "outputs": [
    {
     "name": "stdout",
     "output_type": "stream",
     "text": [
      "the total energy consuption  is 11800MWh\n"
     ]
    }
   ],
   "source": [
    "total_energy_con=np.sum(energy_consuption)\n",
    "print(f\"the total energy consuption  is {total_energy_con}MWh\")"
   ]
  },
  {
   "cell_type": "code",
   "execution_count": 19,
   "id": "1a024945-9256-474d-8018-8657bf707fbe",
   "metadata": {},
   "outputs": [
    {
     "name": "stdout",
     "output_type": "stream",
     "text": [
      "the avg energy consuption is 2360.00MWh\n"
     ]
    }
   ],
   "source": [
    "mean_ene_cons=np.mean(energy_consuption)\n",
    "print(f\"the avg energy consuption is {mean_ene_cons:.2f}MWh\")"
   ]
  },
  {
   "cell_type": "code",
   "execution_count": 20,
   "id": "7205f40c-e469-4acc-a1ed-a57160930509",
   "metadata": {},
   "outputs": [
    {
     "data": {
      "text/plain": [
       "781.2809993849844"
      ]
     },
     "execution_count": 20,
     "metadata": {},
     "output_type": "execute_result"
    }
   ],
   "source": [
    "np.std(energy_consuption)"
   ]
  },
  {
   "cell_type": "code",
   "execution_count": 21,
   "id": "f649ae62-3746-44d2-8aa7-50ad463ec977",
   "metadata": {},
   "outputs": [
    {
     "data": {
      "text/plain": [
       "array([[1200],\n",
       "       [3400],\n",
       "       [1800],\n",
       "       [2900],\n",
       "       [2500]])"
      ]
     },
     "execution_count": 21,
     "metadata": {},
     "output_type": "execute_result"
    }
   ],
   "source": [
    "reshaped_array=energy_consuption.reshape((5,1))\n",
    "reshaped_array"
   ]
  },
  {
   "cell_type": "code",
   "execution_count": 22,
   "id": "11bcbb75-62d1-407a-9346-aebb947f7a69",
   "metadata": {},
   "outputs": [],
   "source": [
    "import pandas as pd"
   ]
  },
  {
   "cell_type": "code",
   "execution_count": 25,
   "id": "3f90669c-716c-4bda-bc16-64aa96ed4d9a",
   "metadata": {},
   "outputs": [
    {
     "data": {
      "text/html": [
       "<div>\n",
       "<style scoped>\n",
       "    .dataframe tbody tr th:only-of-type {\n",
       "        vertical-align: middle;\n",
       "    }\n",
       "\n",
       "    .dataframe tbody tr th {\n",
       "        vertical-align: top;\n",
       "    }\n",
       "\n",
       "    .dataframe thead th {\n",
       "        text-align: right;\n",
       "    }\n",
       "</style>\n",
       "<table border=\"1\" class=\"dataframe\">\n",
       "  <thead>\n",
       "    <tr style=\"text-align: right;\">\n",
       "      <th></th>\n",
       "      <th>Energy Source</th>\n",
       "      <th>Energy Consumption (MWh)</th>\n",
       "      <th>Cost (Million $)</th>\n",
       "    </tr>\n",
       "  </thead>\n",
       "  <tbody>\n",
       "    <tr>\n",
       "      <th>0</th>\n",
       "      <td>Solar</td>\n",
       "      <td>1200.0</td>\n",
       "      <td>200.0</td>\n",
       "    </tr>\n",
       "    <tr>\n",
       "      <th>1</th>\n",
       "      <td>Wind</td>\n",
       "      <td>NaN</td>\n",
       "      <td>400.0</td>\n",
       "    </tr>\n",
       "    <tr>\n",
       "      <th>2</th>\n",
       "      <td>Hydropower</td>\n",
       "      <td>2900.0</td>\n",
       "      <td>NaN</td>\n",
       "    </tr>\n",
       "    <tr>\n",
       "      <th>3</th>\n",
       "      <td>Geothermal</td>\n",
       "      <td>NaN</td>\n",
       "      <td>150.0</td>\n",
       "    </tr>\n",
       "    <tr>\n",
       "      <th>4</th>\n",
       "      <td>Biomass</td>\n",
       "      <td>2500.0</td>\n",
       "      <td>250.0</td>\n",
       "    </tr>\n",
       "  </tbody>\n",
       "</table>\n",
       "</div>"
      ],
      "text/plain": [
       "  Energy Source  Energy Consumption (MWh)  Cost (Million $)\n",
       "0         Solar                    1200.0             200.0\n",
       "1          Wind                       NaN             400.0\n",
       "2    Hydropower                    2900.0               NaN\n",
       "3    Geothermal                       NaN             150.0\n",
       "4       Biomass                    2500.0             250.0"
      ]
     },
     "execution_count": 25,
     "metadata": {},
     "output_type": "execute_result"
    }
   ],
   "source": [
    "data = {\n",
    "    \"Energy Source\": [\"Solar\", \"Wind\", \"Hydropower\", \"Geothermal\", \"Biomass\", \"Nuclear\"],\n",
    "    \"Energy Consumption (MWh)\": [1200, np.nan, 2900, np.nan, 2500, 3200],\n",
    "    \"Cost (Million $)\": [200, 400, np.nan, 150, 250, np.nan]\n",
    "}\n",
    "energy=pd.DataFrame(data)\n",
    "energy.head()\n"
   ]
  },
  {
   "cell_type": "code",
   "execution_count": 26,
   "id": "7858f71d-eb43-44e2-b620-8b4a19fe422f",
   "metadata": {},
   "outputs": [
    {
     "data": {
      "text/plain": [
       "Energy Source               0\n",
       "Energy Consumption (MWh)    2\n",
       "Cost (Million $)            2\n",
       "dtype: int64"
      ]
     },
     "execution_count": 26,
     "metadata": {},
     "output_type": "execute_result"
    }
   ],
   "source": [
    "energy.isnull().sum()"
   ]
  },
  {
   "cell_type": "code",
   "execution_count": 27,
   "id": "10d82d90-1bd6-4f1b-9013-757dd41e6fc1",
   "metadata": {},
   "outputs": [
    {
     "data": {
      "text/html": [
       "<div>\n",
       "<style scoped>\n",
       "    .dataframe tbody tr th:only-of-type {\n",
       "        vertical-align: middle;\n",
       "    }\n",
       "\n",
       "    .dataframe tbody tr th {\n",
       "        vertical-align: top;\n",
       "    }\n",
       "\n",
       "    .dataframe thead th {\n",
       "        text-align: right;\n",
       "    }\n",
       "</style>\n",
       "<table border=\"1\" class=\"dataframe\">\n",
       "  <thead>\n",
       "    <tr style=\"text-align: right;\">\n",
       "      <th></th>\n",
       "      <th>Energy Source</th>\n",
       "      <th>Energy Consumption (MWh)</th>\n",
       "      <th>Cost (Million $)</th>\n",
       "    </tr>\n",
       "  </thead>\n",
       "  <tbody>\n",
       "    <tr>\n",
       "      <th>0</th>\n",
       "      <td>Solar</td>\n",
       "      <td>1200.0</td>\n",
       "      <td>200.0</td>\n",
       "    </tr>\n",
       "    <tr>\n",
       "      <th>4</th>\n",
       "      <td>Biomass</td>\n",
       "      <td>2500.0</td>\n",
       "      <td>250.0</td>\n",
       "    </tr>\n",
       "  </tbody>\n",
       "</table>\n",
       "</div>"
      ],
      "text/plain": [
       "  Energy Source  Energy Consumption (MWh)  Cost (Million $)\n",
       "0         Solar                    1200.0             200.0\n",
       "4       Biomass                    2500.0             250.0"
      ]
     },
     "execution_count": 27,
     "metadata": {},
     "output_type": "execute_result"
    }
   ],
   "source": [
    "cleaned_df=energy.dropna()\n",
    "cleaned_df"
   ]
  },
  {
   "cell_type": "code",
   "execution_count": 28,
   "id": "a3b75f62-3f39-4fdc-b687-416bd03b0d3b",
   "metadata": {},
   "outputs": [
    {
     "data": {
      "text/html": [
       "<div>\n",
       "<style scoped>\n",
       "    .dataframe tbody tr th:only-of-type {\n",
       "        vertical-align: middle;\n",
       "    }\n",
       "\n",
       "    .dataframe tbody tr th {\n",
       "        vertical-align: top;\n",
       "    }\n",
       "\n",
       "    .dataframe thead th {\n",
       "        text-align: right;\n",
       "    }\n",
       "</style>\n",
       "<table border=\"1\" class=\"dataframe\">\n",
       "  <thead>\n",
       "    <tr style=\"text-align: right;\">\n",
       "      <th></th>\n",
       "      <th>Energy Source</th>\n",
       "      <th>Energy Consumption (MWh)</th>\n",
       "      <th>Cost (Million $)</th>\n",
       "    </tr>\n",
       "  </thead>\n",
       "  <tbody>\n",
       "    <tr>\n",
       "      <th>0</th>\n",
       "      <td>Solar</td>\n",
       "      <td>1200.0</td>\n",
       "      <td>200.0</td>\n",
       "    </tr>\n",
       "    <tr>\n",
       "      <th>1</th>\n",
       "      <td>Wind</td>\n",
       "      <td>2450.0</td>\n",
       "      <td>400.0</td>\n",
       "    </tr>\n",
       "    <tr>\n",
       "      <th>2</th>\n",
       "      <td>Hydropower</td>\n",
       "      <td>2900.0</td>\n",
       "      <td>250.0</td>\n",
       "    </tr>\n",
       "    <tr>\n",
       "      <th>3</th>\n",
       "      <td>Geothermal</td>\n",
       "      <td>2450.0</td>\n",
       "      <td>150.0</td>\n",
       "    </tr>\n",
       "    <tr>\n",
       "      <th>4</th>\n",
       "      <td>Biomass</td>\n",
       "      <td>2500.0</td>\n",
       "      <td>250.0</td>\n",
       "    </tr>\n",
       "    <tr>\n",
       "      <th>5</th>\n",
       "      <td>Nuclear</td>\n",
       "      <td>3200.0</td>\n",
       "      <td>250.0</td>\n",
       "    </tr>\n",
       "  </tbody>\n",
       "</table>\n",
       "</div>"
      ],
      "text/plain": [
       "  Energy Source  Energy Consumption (MWh)  Cost (Million $)\n",
       "0         Solar                    1200.0             200.0\n",
       "1          Wind                    2450.0             400.0\n",
       "2    Hydropower                    2900.0             250.0\n",
       "3    Geothermal                    2450.0             150.0\n",
       "4       Biomass                    2500.0             250.0\n",
       "5       Nuclear                    3200.0             250.0"
      ]
     },
     "execution_count": 28,
     "metadata": {},
     "output_type": "execute_result"
    }
   ],
   "source": [
    "energy['Energy Consumption (MWh)'].fillna(energy['Energy Consumption (MWh)'].mean(), inplace=True)\n",
    "energy['Cost (Million $)'].fillna(energy['Cost (Million $)'].mean(), inplace=True)\n",
    "\n",
    "energy"
   ]
  },
  {
   "cell_type": "code",
   "execution_count": 34,
   "id": "0336330b-c54f-4d29-9523-b67e84ad1c75",
   "metadata": {},
   "outputs": [
    {
     "data": {
      "text/html": [
       "<div>\n",
       "<style scoped>\n",
       "    .dataframe tbody tr th:only-of-type {\n",
       "        vertical-align: middle;\n",
       "    }\n",
       "\n",
       "    .dataframe tbody tr th {\n",
       "        vertical-align: top;\n",
       "    }\n",
       "\n",
       "    .dataframe thead th {\n",
       "        text-align: right;\n",
       "    }\n",
       "</style>\n",
       "<table border=\"1\" class=\"dataframe\">\n",
       "  <thead>\n",
       "    <tr style=\"text-align: right;\">\n",
       "      <th></th>\n",
       "      <th>Energy Source</th>\n",
       "      <th>Energy Consumption (MWh)</th>\n",
       "      <th>Cost (Million $)</th>\n",
       "    </tr>\n",
       "  </thead>\n",
       "  <tbody>\n",
       "    <tr>\n",
       "      <th>0</th>\n",
       "      <td>Solar</td>\n",
       "      <td>0.000</td>\n",
       "      <td>0.2</td>\n",
       "    </tr>\n",
       "    <tr>\n",
       "      <th>1</th>\n",
       "      <td>Wind</td>\n",
       "      <td>0.625</td>\n",
       "      <td>1.0</td>\n",
       "    </tr>\n",
       "    <tr>\n",
       "      <th>2</th>\n",
       "      <td>Hydropower</td>\n",
       "      <td>0.850</td>\n",
       "      <td>0.4</td>\n",
       "    </tr>\n",
       "    <tr>\n",
       "      <th>3</th>\n",
       "      <td>Geothermal</td>\n",
       "      <td>0.625</td>\n",
       "      <td>0.0</td>\n",
       "    </tr>\n",
       "    <tr>\n",
       "      <th>4</th>\n",
       "      <td>Biomass</td>\n",
       "      <td>0.650</td>\n",
       "      <td>0.4</td>\n",
       "    </tr>\n",
       "    <tr>\n",
       "      <th>5</th>\n",
       "      <td>Nuclear</td>\n",
       "      <td>1.000</td>\n",
       "      <td>0.4</td>\n",
       "    </tr>\n",
       "  </tbody>\n",
       "</table>\n",
       "</div>"
      ],
      "text/plain": [
       "  Energy Source  Energy Consumption (MWh)  Cost (Million $)\n",
       "0         Solar                     0.000               0.2\n",
       "1          Wind                     0.625               1.0\n",
       "2    Hydropower                     0.850               0.4\n",
       "3    Geothermal                     0.625               0.0\n",
       "4       Biomass                     0.650               0.4\n",
       "5       Nuclear                     1.000               0.4"
      ]
     },
     "execution_count": 34,
     "metadata": {},
     "output_type": "execute_result"
    }
   ],
   "source": [
    "from sklearn.preprocessing import MinMaxScaler\n",
    "scaler= MinMaxScaler()\n",
    "energy[[\"Energy Consumption (MWh)\",\"Cost (Million $)\"]]=scaler.fit_transform(energy[[\"Energy Consumption (MWh)\",\"Cost (Million $)\"]])\n",
    "energy"
   ]
  },
  {
   "cell_type": "code",
   "execution_count": 35,
   "id": "804dc52e-ff2f-4f96-8581-1da4735beca2",
   "metadata": {},
   "outputs": [
    {
     "data": {
      "text/html": [
       "<div>\n",
       "<style scoped>\n",
       "    .dataframe tbody tr th:only-of-type {\n",
       "        vertical-align: middle;\n",
       "    }\n",
       "\n",
       "    .dataframe tbody tr th {\n",
       "        vertical-align: top;\n",
       "    }\n",
       "\n",
       "    .dataframe thead th {\n",
       "        text-align: right;\n",
       "    }\n",
       "</style>\n",
       "<table border=\"1\" class=\"dataframe\">\n",
       "  <thead>\n",
       "    <tr style=\"text-align: right;\">\n",
       "      <th></th>\n",
       "      <th>Energy Source</th>\n",
       "      <th>Energy Consumption (MWh)</th>\n",
       "      <th>Cost (Million $)</th>\n",
       "    </tr>\n",
       "  </thead>\n",
       "  <tbody>\n",
       "    <tr>\n",
       "      <th>0</th>\n",
       "      <td>Solar</td>\n",
       "      <td>-2.005893e+00</td>\n",
       "      <td>-6.546537e-01</td>\n",
       "    </tr>\n",
       "    <tr>\n",
       "      <th>1</th>\n",
       "      <td>Wind</td>\n",
       "      <td>3.563181e-16</td>\n",
       "      <td>1.963961e+00</td>\n",
       "    </tr>\n",
       "    <tr>\n",
       "      <th>2</th>\n",
       "      <td>Hydropower</td>\n",
       "      <td>7.221213e-01</td>\n",
       "      <td>1.817029e-16</td>\n",
       "    </tr>\n",
       "    <tr>\n",
       "      <th>3</th>\n",
       "      <td>Geothermal</td>\n",
       "      <td>3.563181e-16</td>\n",
       "      <td>-1.309307e+00</td>\n",
       "    </tr>\n",
       "    <tr>\n",
       "      <th>4</th>\n",
       "      <td>Biomass</td>\n",
       "      <td>8.023570e-02</td>\n",
       "      <td>1.817029e-16</td>\n",
       "    </tr>\n",
       "    <tr>\n",
       "      <th>5</th>\n",
       "      <td>Nuclear</td>\n",
       "      <td>1.203536e+00</td>\n",
       "      <td>1.817029e-16</td>\n",
       "    </tr>\n",
       "  </tbody>\n",
       "</table>\n",
       "</div>"
      ],
      "text/plain": [
       "  Energy Source  Energy Consumption (MWh)  Cost (Million $)\n",
       "0         Solar             -2.005893e+00     -6.546537e-01\n",
       "1          Wind              3.563181e-16      1.963961e+00\n",
       "2    Hydropower              7.221213e-01      1.817029e-16\n",
       "3    Geothermal              3.563181e-16     -1.309307e+00\n",
       "4       Biomass              8.023570e-02      1.817029e-16\n",
       "5       Nuclear              1.203536e+00      1.817029e-16"
      ]
     },
     "execution_count": 35,
     "metadata": {},
     "output_type": "execute_result"
    }
   ],
   "source": [
    "from sklearn.preprocessing import StandardScaler\n",
    "std_scaler=StandardScaler()\n",
    "energy[['Energy Consumption (MWh)','Cost (Million $)']]=std_scaler.fit_transform(energy[['Energy Consumption (MWh)','Cost (Million $)']])\n",
    "energy"
   ]
  },
  {
   "cell_type": "code",
   "execution_count": 37,
   "id": "c3cb7e0c-618b-4482-b0c8-c81c458d4de5",
   "metadata": {},
   "outputs": [],
   "source": [
    "#Line Plot\n",
    "months=['jan', 'fed', 'march', 'apr', 'may', 'jun']\n",
    "energy_cons=[1200,1300,1100,1500,1400,1600]"
   ]
  },
  {
   "cell_type": "code",
   "execution_count": 47,
   "id": "0cf053e9-0426-4662-a5fd-236e748f6dc3",
   "metadata": {},
   "outputs": [
    {
     "data": {
      "image/png": "[encoded data removed]",
      "text/plain": [
       "<Figure size 640x480 with 1 Axes>"
      ]
     },
     "metadata": {},
     "output_type": "display_data"
    }
   ],
   "source": [
    "import matplotlib.pyplot as plt\n",
    "plt.plot(months,energy_cons,marker='o',linestyle='dashed',color='blue')\n",
    "plt.title('Energy Consumption VS Month')\n",
    "plt.xlabel('Months')\n",
    "plt.ylabel('Energ_Consumption (')\n",
    "plt.show()\n",
    "         "
   ]
  },
  {
   "cell_type": "code",
   "execution_count": 54,
   "id": "1c5b2e71-039c-4c64-922c-b84f2cb0a4c3",
   "metadata": {},
   "outputs": [
    {
     "data": {
      "image/png": "[encoded data removed]",
      "text/plain": [
       "<Figure size 640x480 with 1 Axes>"
      ]
     },
     "metadata": {},
     "output_type": "display_data"
    }
   ],
   "source": [
    "#bar chart\n",
    "energy_sources=['solar','wind','hydro','bio']\n",
    "values=[1200,3400,2900,2500]\n",
    "plt.bar(energy_sources,values,color='pink')\n",
    "plt.title('Energy Source VS Values')\n",
    "plt.xlabel('Energy Source')\n",
    "plt.show()"
   ]
  },
  {
   "cell_type": "code",
   "execution_count": 56,
   "id": "5ee13dc3-b9d2-4b3a-bbf6-fafd03524fd3",
   "metadata": {},
   "outputs": [
    {
     "data": {
      "image/png": "[encoded data removed]",
      "text/plain": [
       "<Figure size 640x480 with 1 Axes>"
      ]
     },
     "metadata": {},
     "output_type": "display_data"
    }
   ],
   "source": [
    "#pie chart\n",
    "plt.pie(values,labels=energy_sources,autopct='%1.1f%%')\n",
    "plt.show()"
   ]
  },
  {
   "cell_type": "code",
   "execution_count": 3,
   "id": "e65d09a4-b9b0-4a39-b713-2275f06dc642",
   "metadata": {},
   "outputs": [
    {
     "data": {
      "image/png": "[encoded data removed]",
      "text/plain": [
       "<Figure size 640x480 with 1 Axes>"
      ]
     },
     "metadata": {},
     "output_type": "display_data"
    }
   ],
   "source": [
    "# scatter plot\n",
    "import matplotlib.pyplot as plt\n",
    "values=[1200,3400,2900,2500]\n",
    "carbon_emmision=[200,500,450,300]\n",
    "plt.scatter(values,carbon_emmision,color='red')\n",
    "plt.show()"
   ]
  },
  {
   "cell_type": "code",
   "execution_count": 16,
   "id": "63a892c8-1424-4614-8f49-128dabf568fc",
   "metadata": {},
   "outputs": [
    {
     "data": {
      "image/png": "[encoded data removed]",
      "text/plain": [
       "<Figure size 640x480 with 1 Axes>"
      ]
     },
     "metadata": {},
     "output_type": "display_data"
    }
   ],
   "source": [
    "energy_source=['solar','wind','hydro','bio']\n",
    "plt.bar(energy_source,values,color='orange',edgecolor='black',linewidth=2)\n",
    "plt.title(\"Coustomized bar plot\")\n",
    "plt.xlabel('Energy source',fontsize=12)\n",
    "plt.ylabel('Values',fontsize=12)\n",
    "plt.grid(True, linestyle='--',alpha=0.7)\n",
    "plt.legend(['Energy consumption'])\n",
    "\n",
    "plt.show()"
   ]
  },
  {
   "cell_type": "code",
   "execution_count": 21,
   "id": "bdd8cd9f-d005-49b6-9e2f-e9b29886b47e",
   "metadata": {},
   "outputs": [
    {
     "data": {
      "text/html": [
       "<div>\n",
       "<style scoped>\n",
       "    .dataframe tbody tr th:only-of-type {\n",
       "        vertical-align: middle;\n",
       "    }\n",
       "\n",
       "    .dataframe tbody tr th {\n",
       "        vertical-align: top;\n",
       "    }\n",
       "\n",
       "    .dataframe thead th {\n",
       "        text-align: right;\n",
       "    }\n",
       "</style>\n",
       "<table border=\"1\" class=\"dataframe\">\n",
       "  <thead>\n",
       "    <tr style=\"text-align: right;\">\n",
       "      <th></th>\n",
       "      <th>solar</th>\n",
       "      <th>Wind</th>\n",
       "      <th>Hydropower</th>\n",
       "      <th>Biomas</th>\n",
       "    </tr>\n",
       "  </thead>\n",
       "  <tbody>\n",
       "    <tr>\n",
       "      <th>0</th>\n",
       "      <td>1200</td>\n",
       "      <td>3400</td>\n",
       "      <td>2900</td>\n",
       "      <td>2500</td>\n",
       "    </tr>\n",
       "    <tr>\n",
       "      <th>1</th>\n",
       "      <td>1500</td>\n",
       "      <td>3600</td>\n",
       "      <td>3100</td>\n",
       "      <td>2700</td>\n",
       "    </tr>\n",
       "    <tr>\n",
       "      <th>2</th>\n",
       "      <td>1300</td>\n",
       "      <td>3200</td>\n",
       "      <td>2800</td>\n",
       "      <td>2400</td>\n",
       "    </tr>\n",
       "  </tbody>\n",
       "</table>\n",
       "</div>"
      ],
      "text/plain": [
       "   solar  Wind  Hydropower  Biomas\n",
       "0   1200  3400        2900    2500\n",
       "1   1500  3600        3100    2700\n",
       "2   1300  3200        2800    2400"
      ]
     },
     "execution_count": 21,
     "metadata": {},
     "output_type": "execute_result"
    }
   ],
   "source": [
    "import seaborn as sns\n",
    "import pandas as pd\n",
    "data={\n",
    "    \"solar\":[1200,1500,1300],\n",
    "    \"Wind\":[3400,3600,3200],\n",
    "    \"Hydropower\":[2900,3100,2800],\n",
    "    \"Biomas\":[2500,2700,2400]\n",
    "}\n",
    "df=pd.DataFrame(data)\n",
    "df"
   ]
  },
  {
   "cell_type": "code",
   "execution_count": 24,
   "id": "95ce6a23-716c-4c29-bfa5-120124cb4a09",
   "metadata": {},
   "outputs": [
    {
     "name": "stderr",
     "output_type": "stream",
     "text": [
      "C:\\Users\\dell\\anaconda3\\Lib\\site-packages\\seaborn\\_oldcore.py:1119: FutureWarning: use_inf_as_na option is deprecated and will be removed in a future version. Convert inf values to NaN before operating instead.\n",
      "  with pd.option_context('mode.use_inf_as_na', True):\n",
      "C:\\Users\\dell\\anaconda3\\Lib\\site-packages\\seaborn\\_oldcore.py:1119: FutureWarning: use_inf_as_na option is deprecated and will be removed in a future version. Convert inf values to NaN before operating instead.\n",
      "  with pd.option_context('mode.use_inf_as_na', True):\n",
      "C:\\Users\\dell\\anaconda3\\Lib\\site-packages\\seaborn\\_oldcore.py:1119: FutureWarning: use_inf_as_na option is deprecated and will be removed in a future version. Convert inf values to NaN before operating instead.\n",
      "  with pd.option_context('mode.use_inf_as_na', True):\n",
      "C:\\Users\\dell\\anaconda3\\Lib\\site-packages\\seaborn\\_oldcore.py:1119: FutureWarning: use_inf_as_na option is deprecated and will be removed in a future version. Convert inf values to NaN before operating instead.\n",
      "  with pd.option_context('mode.use_inf_as_na', True):\n"
     ]
    },
    {
     "data": {
      "image/png": "[encoded data removed]",
      "text/plain": [
       "<Figure size 1000x1000 with 20 Axes>"
      ]
     },
     "metadata": {},
     "output_type": "display_data"
    }
   ],
   "source": [
    "sns.pairplot(df)\n",
    "plt.show()"
   ]
  },
  {
   "cell_type": "code",
   "execution_count": 31,
   "id": "e7c06d9f-4382-4dfe-afd7-e7c4e5654681",
   "metadata": {},
   "outputs": [
    {
     "data": {
      "text/html": [
       "<div>\n",
       "<style scoped>\n",
       "    .dataframe tbody tr th:only-of-type {\n",
       "        vertical-align: middle;\n",
       "    }\n",
       "\n",
       "    .dataframe tbody tr th {\n",
       "        vertical-align: top;\n",
       "    }\n",
       "\n",
       "    .dataframe thead th {\n",
       "        text-align: right;\n",
       "    }\n",
       "</style>\n",
       "<table border=\"1\" class=\"dataframe\">\n",
       "  <thead>\n",
       "    <tr style=\"text-align: right;\">\n",
       "      <th></th>\n",
       "      <th>solar</th>\n",
       "      <th>Wind</th>\n",
       "      <th>Hydropower</th>\n",
       "      <th>Biomas</th>\n",
       "    </tr>\n",
       "  </thead>\n",
       "  <tbody>\n",
       "    <tr>\n",
       "      <th>solar</th>\n",
       "      <td>1.000000</td>\n",
       "      <td>0.654654</td>\n",
       "      <td>0.785714</td>\n",
       "      <td>0.785714</td>\n",
       "    </tr>\n",
       "    <tr>\n",
       "      <th>Wind</th>\n",
       "      <td>0.654654</td>\n",
       "      <td>1.000000</td>\n",
       "      <td>0.981981</td>\n",
       "      <td>0.981981</td>\n",
       "    </tr>\n",
       "    <tr>\n",
       "      <th>Hydropower</th>\n",
       "      <td>0.785714</td>\n",
       "      <td>0.981981</td>\n",
       "      <td>1.000000</td>\n",
       "      <td>1.000000</td>\n",
       "    </tr>\n",
       "    <tr>\n",
       "      <th>Biomas</th>\n",
       "      <td>0.785714</td>\n",
       "      <td>0.981981</td>\n",
       "      <td>1.000000</td>\n",
       "      <td>1.000000</td>\n",
       "    </tr>\n",
       "  </tbody>\n",
       "</table>\n",
       "</div>"
      ],
      "text/plain": [
       "               solar      Wind  Hydropower    Biomas\n",
       "solar       1.000000  0.654654    0.785714  0.785714\n",
       "Wind        0.654654  1.000000    0.981981  0.981981\n",
       "Hydropower  0.785714  0.981981    1.000000  1.000000\n",
       "Biomas      0.785714  0.981981    1.000000  1.000000"
      ]
     },
     "execution_count": 31,
     "metadata": {},
     "output_type": "execute_result"
    }
   ],
   "source": [
    "#Correlation Matrix\n",
    "corr_matrix=df.corr()\n",
    "corr_matrix"
   ]
  },
  {
   "cell_type": "code",
   "execution_count": 32,
   "id": "bd92ffca-c31c-42f9-a94c-410c00a4b8ce",
   "metadata": {},
   "outputs": [
    {
     "data": {
      "image/png": "[encoded data removed]",
      "text/plain": [
       "<Figure size 640x480 with 2 Axes>"
      ]
     },
     "metadata": {},
     "output_type": "display_data"
    }
   ],
   "source": [
    "sns.heatmap(corr_matrix,annot=True,cmap='coolwarm',linewidth=0.5)\n",
    "plt.title(\"correlation between energy source\")\n",
    "plt.show()"
   ]
  },
  {
   "cell_type": "code",
   "execution_count": 33,
   "id": "7dd2d901-dbb5-45bf-a22f-41b4ee27c2bf",
   "metadata": {},
   "outputs": [
    {
     "data": {
      "image/png": "[encoded data removed]",
      "text/plain": [
       "<Figure size 640x480 with 1 Axes>"
      ]
     },
     "metadata": {},
     "output_type": "display_data"
    }
   ],
   "source": [
    "#Boxplot\n",
    "sns.boxplot(data=df)\n",
    "plt.show()"
   ]
  },
  {
   "cell_type": "code",
   "execution_count": 34,
   "id": "f0eb5fe3-f22e-44cf-9479-b098aaa0b494",
   "metadata": {},
   "outputs": [
    {
     "data": {
      "image/png": "[encoded data removed]",
      "text/plain": [
       "<Figure size 640x480 with 1 Axes>"
      ]
     },
     "metadata": {},
     "output_type": "display_data"
    }
   ],
   "source": [
    "#violin plot\n",
    "sns.violinplot(data=df)\n",
    "plt.show()"
   ]
  },
  {
   "cell_type": "code",
   "execution_count": 39,
   "id": "be074c59-f614-4dad-a658-7a89762f3289",
   "metadata": {},
   "outputs": [],
   "source": [
    "#regression plot\n",
    "energy_values=[100,200,300,400,500]\n",
    "carbon_emission=[10,20,30,40,50]\n",
    "\n",
    "df_reg=pd.DataFrame(\n",
    "    {\n",
    "        \"Energy Values\":energy_values,\n",
    "        \"Carbon Emission\":carbon_emission\n",
    "    })"
   ]
  },
  {
   "cell_type": "code",
   "execution_count": 40,
   "id": "8a54c0e2-cb24-47f0-bbcc-1d7650d7be8f",
   "metadata": {},
   "outputs": [
    {
     "data": {
      "image/png": "[encoded data removed]",
      "text/plain": [
       "<Figure size 640x480 with 1 Axes>"
      ]
     },
     "metadata": {},
     "output_type": "display_data"
    }
   ],
   "source": [
    "sns.regplot(x='Energy Values',y='Carbon Emission',data=df_reg)\n",
    "plt.show()"
   ]
  },
  {
   "cell_type": "code",
   "execution_count": null,
   "id": "2ab32bcf-9b75-4834-9d98-7fda249a502d",
   "metadata": {},
   "outputs": [],
   "source": []
  }
 ],
 "metadata": {
  "kernelspec": {
   "display_name": "Python 3 (ipykernel)",
   "language": "python",
   "name": "python3"
  },
  "language_info": {
   "codemirror_mode": {
    "name": "ipython",
    "version": 3
   },
   "file_extension": ".py",
   "mimetype": "text/x-python",
   "name": "python",
   "nbconvert_exporter": "python",
   "pygments_lexer": "ipython3",
   "version": "3.11.7"
  }
 },
 "nbformat": 4,
 "nbformat_minor": 5
}
